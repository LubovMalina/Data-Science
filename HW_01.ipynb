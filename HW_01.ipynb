{
 "cells": [
  {
   "cell_type": "markdown",
   "id": "e8daa36f-c50c-4764-a5ba-7347952fb7eb",
   "metadata": {},
   "source": [
    "Задание 1\n",
    "Создайте массив Numpy под названием a размером 5x2, то есть состоящий из 5 строк\n",
    "и 2 столбцов. Первый столбец должен содержать числа 1, 2, 3, 3, 1, а второй - числа 6,\n",
    "8, 11, 10, 7. Будем считать, что каждый столбец - это признак, а строка - наблюдение.\n",
    "Затем найдите среднее значение по каждому признаку, используя метод mean массива\n",
    "Numpy. Результат запишите в массив mean_a, в нем должно быть 2 элемента.\n"
   ]
  },
  {
   "cell_type": "code",
   "execution_count": 4,
   "id": "3ad7f05b-e7db-4a00-980a-19e5141ff8d4",
   "metadata": {},
   "outputs": [
    {
     "name": "stdout",
     "output_type": "stream",
     "text": [
      "Requirement already satisfied: numpy in c:\\users\\andre\\anaconda3\\lib\\site-packages (1.26.4)Note: you may need to restart the kernel to use updated packages.\n",
      "\n"
     ]
    }
   ],
   "source": [
    "pip install numpy"
   ]
  },
  {
   "cell_type": "code",
   "execution_count": 50,
   "id": "698ee989-0fe5-4055-b7ef-ac7b4ddca97c",
   "metadata": {},
   "outputs": [],
   "source": [
    "import numpy as np\n",
    "import statistics"
   ]
  },
  {
   "cell_type": "code",
   "execution_count": 110,
   "id": "6755ef35-98b9-47bd-b7e0-67a8e63d8862",
   "metadata": {},
   "outputs": [],
   "source": [
    "a = np.array([[1,6],[2,8],[3,11],[3,10],[1,7]])"
   ]
  },
  {
   "cell_type": "code",
   "execution_count": 74,
   "id": "019233a8-a8a2-4149-bb34-7a1ab9baa877",
   "metadata": {},
   "outputs": [
    {
     "name": "stdout",
     "output_type": "stream",
     "text": [
      "[[ 1  6]\n",
      " [ 2  8]\n",
      " [ 3 11]\n",
      " [ 3 10]\n",
      " [ 1  7]]\n",
      "Размерность а: 2\n",
      "Формат а: (5, 2)\n"
     ]
    }
   ],
   "source": [
    "print(a)\n",
    "print(\"Размерность а: {}\".format(a.ndim))\n",
    "print(\"Формат а: {}\".format(a.shape))"
   ]
  },
  {
   "cell_type": "code",
   "execution_count": 78,
   "id": "d6f4648f-5248-4ee0-b1cb-4729d4bce923",
   "metadata": {},
   "outputs": [
    {
     "data": {
      "text/plain": [
       "numpy.ndarray"
      ]
     },
     "execution_count": 78,
     "metadata": {},
     "output_type": "execute_result"
    }
   ],
   "source": [
    "type(a)"
   ]
  },
  {
   "cell_type": "code",
   "execution_count": 80,
   "id": "88af26f7-52d4-4018-9171-bccc91832fec",
   "metadata": {},
   "outputs": [
    {
     "data": {
      "text/plain": [
       "array([2. , 8.4])"
      ]
     },
     "execution_count": 80,
     "metadata": {},
     "output_type": "execute_result"
    }
   ],
   "source": [
    "mean_a = a.mean(axis=0)\n",
    "mean_a"
   ]
  },
  {
   "cell_type": "code",
   "execution_count": 60,
   "id": "bd3be22a-6a7a-46db-b067-a6f40dd21a2b",
   "metadata": {},
   "outputs": [
    {
     "name": "stdout",
     "output_type": "stream",
     "text": [
      "[[ 1  6]\n",
      " [ 2  8]\n",
      " [ 3 11]\n",
      " [ 3 10]\n",
      " [ 1  7]]\n"
     ]
    }
   ],
   "source": [
    "a1 = np.matrix('1 6; 2 8; 3 11; 3 10; 1 7')\n",
    "print(a1)"
   ]
  },
  {
   "cell_type": "code",
   "execution_count": 62,
   "id": "0f3c14ce-6739-4be7-b81a-c8d0844eabfe",
   "metadata": {},
   "outputs": [
    {
     "data": {
      "text/plain": [
       "numpy.matrix"
      ]
     },
     "execution_count": 62,
     "metadata": {},
     "output_type": "execute_result"
    }
   ],
   "source": [
    "type(a1)"
   ]
  },
  {
   "cell_type": "code",
   "execution_count": 64,
   "id": "db92401f-6e55-45f1-b3f9-2735750dc392",
   "metadata": {},
   "outputs": [],
   "source": [
    "a1 = np.array(a1)"
   ]
  },
  {
   "cell_type": "code",
   "execution_count": 68,
   "id": "f07e09f0-baa7-43e2-b52e-616bba7ea31f",
   "metadata": {},
   "outputs": [
    {
     "data": {
      "text/plain": [
       "array([2. , 8.4])"
      ]
     },
     "execution_count": 68,
     "metadata": {},
     "output_type": "execute_result"
    }
   ],
   "source": [
    "mean_a1 = a1.mean(axis=0)\n",
    "mean_a1"
   ]
  },
  {
   "cell_type": "markdown",
   "id": "f60a338e-0caf-4902-949f-5fad695a58ec",
   "metadata": {},
   "source": [
    "Задание 2\r\n",
    "Вычислите массив a_centered, отняв от значений массива “а” средние значения\r\n",
    "соответствующих признаков, содержащиеся в массиве mean_a. Вычисление должно\r\n",
    "производиться в одно действие. Получившийся массив должен иметь размер 5x2."
   ]
  },
  {
   "cell_type": "code",
   "execution_count": 84,
   "id": "db0f83d6-a752-43d9-b52a-dadbf85b2277",
   "metadata": {},
   "outputs": [
    {
     "data": {
      "text/plain": [
       "array([[-1. , -2.4],\n",
       "       [ 0. , -0.4],\n",
       "       [ 1. ,  2.6],\n",
       "       [ 1. ,  1.6],\n",
       "       [-1. , -1.4]])"
      ]
     },
     "execution_count": 84,
     "metadata": {},
     "output_type": "execute_result"
    }
   ],
   "source": [
    "a_centered = np.array(a-mean_a)\n",
    "a_centered"
   ]
  },
  {
   "cell_type": "markdown",
   "id": "ab264455-c324-4261-a7e2-2915929010ea",
   "metadata": {},
   "source": [
    "Задание 3\r\n",
    "Найдите скалярное произведение столбцов массива a_centered. В результате должна\r\n",
    "получиться величина _centered_spa. Затем поделите a_centered_sp на N-1, где N - число\r\n",
    "наблюдений.\r"
   ]
  },
  {
   "cell_type": "code",
   "execution_count": 96,
   "id": "88bdef51-52eb-4559-b018-037cf7958cb9",
   "metadata": {},
   "outputs": [
    {
     "data": {
      "text/plain": [
       "8.0"
      ]
     },
     "execution_count": 96,
     "metadata": {},
     "output_type": "execute_result"
    }
   ],
   "source": [
    "a1 = a_centered[:,0]\n",
    "a2 = a_centered[:,1]\n",
    "a_centered_sp = np.dot(a1,a2)\n",
    "a_centered_sp"
   ]
  },
  {
   "cell_type": "code",
   "execution_count": 116,
   "id": "fbf97fff-9dc3-4628-be44-8767f0d760b3",
   "metadata": {},
   "outputs": [
    {
     "data": {
      "text/plain": [
       "5"
      ]
     },
     "execution_count": 116,
     "metadata": {},
     "output_type": "execute_result"
    }
   ],
   "source": [
    "g = a.shape[0]\n",
    "g"
   ]
  },
  {
   "cell_type": "code",
   "execution_count": 120,
   "id": "87d1fbda-3bcd-4256-999f-272318669f3b",
   "metadata": {},
   "outputs": [
    {
     "data": {
      "text/plain": [
       "2.0"
      ]
     },
     "execution_count": 120,
     "metadata": {},
     "output_type": "execute_result"
    }
   ],
   "source": [
    "boc = a_centered_sp/(g-1)\n",
    "boc"
   ]
  },
  {
   "cell_type": "markdown",
   "id": "4f64be36-ac40-4184-8de2-4a2ef3fec7f2",
   "metadata": {},
   "source": [
    "Задание 4.\n",
    "В этом задании проверьте получившееся число, вычислив ковариацию еще одним способом - с\r\n",
    "помощью функции np.cov. В качестве аргумента m функция np.cov должна принимать\r\n",
    "транспонированный массив “a”. В получившейся ковариационной матрице (массив Numpy размером\r\n",
    "2x2) искомое значение ковариации будет равно элементу в строке с индексом 0 и столбце с индексом\r\n",
    "1.\r"
   ]
  },
  {
   "cell_type": "code",
   "execution_count": 122,
   "id": "7df70a36-9470-4eb1-83ad-a732dd11d0c1",
   "metadata": {},
   "outputs": [
    {
     "data": {
      "text/plain": [
       "array([[ 1,  2,  3,  3,  1],\n",
       "       [ 6,  8, 11, 10,  7]])"
      ]
     },
     "execution_count": 122,
     "metadata": {},
     "output_type": "execute_result"
    }
   ],
   "source": [
    "a_T = a.T\n",
    "a_T"
   ]
  },
  {
   "cell_type": "code",
   "execution_count": 124,
   "id": "b69f55e7-bfcb-475c-a978-7d52c283a523",
   "metadata": {},
   "outputs": [
    {
     "data": {
      "text/plain": [
       "array([[1. , 2. ],\n",
       "       [2. , 4.3]])"
      ]
     },
     "execution_count": 124,
     "metadata": {},
     "output_type": "execute_result"
    }
   ],
   "source": [
    "j = np.cov(a_T)\n",
    "j"
   ]
  },
  {
   "cell_type": "code",
   "execution_count": 132,
   "id": "8f1a6024-a021-4941-88dd-9340883f2d39",
   "metadata": {},
   "outputs": [
    {
     "data": {
      "text/plain": [
       "2.0"
      ]
     },
     "execution_count": 132,
     "metadata": {},
     "output_type": "execute_result"
    }
   ],
   "source": [
    "a3 = j[0][1]\n",
    "a3"
   ]
  },
  {
   "cell_type": "markdown",
   "id": "50fca7ea-1010-4e97-9968-e3d2f63e8836",
   "metadata": {},
   "source": [
    "Тема “Работа с данными в Pandas”"
   ]
  },
  {
   "cell_type": "markdown",
   "id": "bfc67656-4721-455e-aed8-16727d0c022e",
   "metadata": {},
   "source": [
    "Задание 1\r\n",
    "Импортируйте библиотеку Pandas и дайте ей псевдоним pd. Создайте датафрейм authors со\r\n",
    "столбцами author_id и author_name, в которых соответственно содержатся данные: [1, 2, 3] и\r\n",
    "['Тургенев', 'Чехов', 'Островский'].\r\n",
    "Затем создайте датафрейм book cо столбцами author_id, book_title и price, в которых соответственно\r\n",
    "содержатся данные:\r\n",
    "[1, 1, 1, 2, 2, 3, 3],\r\n",
    "['Отцы и дети', 'Рудин', 'Дворянское гнездо', 'Толстый и тонкий', 'Дама с собачкой', 'Гроза', 'Таланты и\r\n",
    "поклонники']\r\n",
    "Нужны prices!\r\n",
    "[500, 400, 300, 350, 450, 600, 200]"
   ]
  },
  {
   "cell_type": "code",
   "execution_count": 142,
   "id": "1be2135d-498e-4a4d-a185-ee2360a21939",
   "metadata": {},
   "outputs": [],
   "source": [
    "import pandas as pd"
   ]
  },
  {
   "cell_type": "code",
   "execution_count": 148,
   "id": "d8407df0-19a6-417a-9e3c-86ffdb807dbf",
   "metadata": {},
   "outputs": [
    {
     "data": {
      "text/html": [
       "<div>\n",
       "<style scoped>\n",
       "    .dataframe tbody tr th:only-of-type {\n",
       "        vertical-align: middle;\n",
       "    }\n",
       "\n",
       "    .dataframe tbody tr th {\n",
       "        vertical-align: top;\n",
       "    }\n",
       "\n",
       "    .dataframe thead th {\n",
       "        text-align: right;\n",
       "    }\n",
       "</style>\n",
       "<table border=\"1\" class=\"dataframe\">\n",
       "  <thead>\n",
       "    <tr style=\"text-align: right;\">\n",
       "      <th></th>\n",
       "      <th>author_id</th>\n",
       "      <th>author_name</th>\n",
       "    </tr>\n",
       "  </thead>\n",
       "  <tbody>\n",
       "    <tr>\n",
       "      <th>0</th>\n",
       "      <td>1</td>\n",
       "      <td>Тургенев</td>\n",
       "    </tr>\n",
       "    <tr>\n",
       "      <th>1</th>\n",
       "      <td>2</td>\n",
       "      <td>Чехов</td>\n",
       "    </tr>\n",
       "    <tr>\n",
       "      <th>2</th>\n",
       "      <td>3</td>\n",
       "      <td>Островский</td>\n",
       "    </tr>\n",
       "  </tbody>\n",
       "</table>\n",
       "</div>"
      ],
      "text/plain": [
       "   author_id author_name\n",
       "0          1    Тургенев\n",
       "1          2       Чехов\n",
       "2          3  Островский"
      ]
     },
     "execution_count": 148,
     "metadata": {},
     "output_type": "execute_result"
    }
   ],
   "source": [
    "authors = pd.DataFrame({'author_id': [1, 2, 3],\n",
    "                       'author_name': ['Тургенев', 'Чехов', 'Островский']})\n",
    "authors"
   ]
  },
  {
   "cell_type": "code",
   "execution_count": 158,
   "id": "afab2f4a-c934-4097-8339-4c8cf7f2641c",
   "metadata": {},
   "outputs": [
    {
     "data": {
      "text/html": [
       "<div>\n",
       "<style scoped>\n",
       "    .dataframe tbody tr th:only-of-type {\n",
       "        vertical-align: middle;\n",
       "    }\n",
       "\n",
       "    .dataframe tbody tr th {\n",
       "        vertical-align: top;\n",
       "    }\n",
       "\n",
       "    .dataframe thead th {\n",
       "        text-align: right;\n",
       "    }\n",
       "</style>\n",
       "<table border=\"1\" class=\"dataframe\">\n",
       "  <thead>\n",
       "    <tr style=\"text-align: right;\">\n",
       "      <th></th>\n",
       "      <th>author_id</th>\n",
       "      <th>book_title</th>\n",
       "      <th>prices</th>\n",
       "    </tr>\n",
       "  </thead>\n",
       "  <tbody>\n",
       "    <tr>\n",
       "      <th>0</th>\n",
       "      <td>1</td>\n",
       "      <td>Отцы и дети</td>\n",
       "      <td>500</td>\n",
       "    </tr>\n",
       "    <tr>\n",
       "      <th>1</th>\n",
       "      <td>1</td>\n",
       "      <td>Рудин</td>\n",
       "      <td>400</td>\n",
       "    </tr>\n",
       "    <tr>\n",
       "      <th>2</th>\n",
       "      <td>1</td>\n",
       "      <td>Дворянское гнездо</td>\n",
       "      <td>300</td>\n",
       "    </tr>\n",
       "    <tr>\n",
       "      <th>3</th>\n",
       "      <td>2</td>\n",
       "      <td>Толстый и тонкий</td>\n",
       "      <td>350</td>\n",
       "    </tr>\n",
       "    <tr>\n",
       "      <th>4</th>\n",
       "      <td>2</td>\n",
       "      <td>Дама с собачкой</td>\n",
       "      <td>450</td>\n",
       "    </tr>\n",
       "    <tr>\n",
       "      <th>5</th>\n",
       "      <td>3</td>\n",
       "      <td>Гроза</td>\n",
       "      <td>600</td>\n",
       "    </tr>\n",
       "    <tr>\n",
       "      <th>6</th>\n",
       "      <td>3</td>\n",
       "      <td>Таланты и поклонники</td>\n",
       "      <td>200</td>\n",
       "    </tr>\n",
       "  </tbody>\n",
       "</table>\n",
       "</div>"
      ],
      "text/plain": [
       "   author_id            book_title  prices\n",
       "0          1           Отцы и дети     500\n",
       "1          1                 Рудин     400\n",
       "2          1     Дворянское гнездо     300\n",
       "3          2      Толстый и тонкий     350\n",
       "4          2       Дама с собачкой     450\n",
       "5          3                 Гроза     600\n",
       "6          3  Таланты и поклонники     200"
      ]
     },
     "execution_count": 158,
     "metadata": {},
     "output_type": "execute_result"
    }
   ],
   "source": [
    "books = pd.DataFrame({'author_id': [1, 1, 1, 2, 2, 3, 3],\n",
    "                    'book_title': ['Отцы и дети', 'Рудин', 'Дворянское гнездо', 'Толстый и тонкий', 'Дама с собачкой', 'Гроза', 'Таланты и поклонники'],\n",
    "                    'prices': [500, 400, 300, 350, 450, 600, 200]\n",
    "})\n",
    "\n",
    "books"
   ]
  },
  {
   "cell_type": "markdown",
   "id": "4c903a0e-9f0c-40eb-8d90-1974acb0195c",
   "metadata": {},
   "source": [
    "Задание 2\r\n",
    "Получите датафрейм authors_price, соединив дата фреймы authors и books по полю author_id."
   ]
  },
  {
   "cell_type": "code",
   "execution_count": 162,
   "id": "d9fb5fff-80b9-4f62-8eb9-65fba653433b",
   "metadata": {},
   "outputs": [
    {
     "data": {
      "text/html": [
       "<div>\n",
       "<style scoped>\n",
       "    .dataframe tbody tr th:only-of-type {\n",
       "        vertical-align: middle;\n",
       "    }\n",
       "\n",
       "    .dataframe tbody tr th {\n",
       "        vertical-align: top;\n",
       "    }\n",
       "\n",
       "    .dataframe thead th {\n",
       "        text-align: right;\n",
       "    }\n",
       "</style>\n",
       "<table border=\"1\" class=\"dataframe\">\n",
       "  <thead>\n",
       "    <tr style=\"text-align: right;\">\n",
       "      <th></th>\n",
       "      <th>author_id</th>\n",
       "      <th>author_name</th>\n",
       "      <th>book_title</th>\n",
       "      <th>prices</th>\n",
       "    </tr>\n",
       "  </thead>\n",
       "  <tbody>\n",
       "    <tr>\n",
       "      <th>0</th>\n",
       "      <td>1</td>\n",
       "      <td>Тургенев</td>\n",
       "      <td>Отцы и дети</td>\n",
       "      <td>500</td>\n",
       "    </tr>\n",
       "    <tr>\n",
       "      <th>1</th>\n",
       "      <td>1</td>\n",
       "      <td>Тургенев</td>\n",
       "      <td>Рудин</td>\n",
       "      <td>400</td>\n",
       "    </tr>\n",
       "    <tr>\n",
       "      <th>2</th>\n",
       "      <td>1</td>\n",
       "      <td>Тургенев</td>\n",
       "      <td>Дворянское гнездо</td>\n",
       "      <td>300</td>\n",
       "    </tr>\n",
       "    <tr>\n",
       "      <th>3</th>\n",
       "      <td>2</td>\n",
       "      <td>Чехов</td>\n",
       "      <td>Толстый и тонкий</td>\n",
       "      <td>350</td>\n",
       "    </tr>\n",
       "    <tr>\n",
       "      <th>4</th>\n",
       "      <td>2</td>\n",
       "      <td>Чехов</td>\n",
       "      <td>Дама с собачкой</td>\n",
       "      <td>450</td>\n",
       "    </tr>\n",
       "    <tr>\n",
       "      <th>5</th>\n",
       "      <td>3</td>\n",
       "      <td>Островский</td>\n",
       "      <td>Гроза</td>\n",
       "      <td>600</td>\n",
       "    </tr>\n",
       "    <tr>\n",
       "      <th>6</th>\n",
       "      <td>3</td>\n",
       "      <td>Островский</td>\n",
       "      <td>Таланты и поклонники</td>\n",
       "      <td>200</td>\n",
       "    </tr>\n",
       "  </tbody>\n",
       "</table>\n",
       "</div>"
      ],
      "text/plain": [
       "   author_id author_name            book_title  prices\n",
       "0          1    Тургенев           Отцы и дети     500\n",
       "1          1    Тургенев                 Рудин     400\n",
       "2          1    Тургенев     Дворянское гнездо     300\n",
       "3          2       Чехов      Толстый и тонкий     350\n",
       "4          2       Чехов       Дама с собачкой     450\n",
       "5          3  Островский                 Гроза     600\n",
       "6          3  Островский  Таланты и поклонники     200"
      ]
     },
     "execution_count": 162,
     "metadata": {},
     "output_type": "execute_result"
    }
   ],
   "source": [
    "authors_price = pd.merge(authors, books, on = 'author_id', how = 'outer' )\n",
    "authors_price"
   ]
  },
  {
   "cell_type": "markdown",
   "id": "660a796b-1773-4de0-b0bd-cdd3f601b6b4",
   "metadata": {},
   "source": [
    "Задание 3\r\n",
    "Создайте датафрейм top5, в котором содержатся строки из authors_price с пятью самыми дорогими\r\n",
    "книгами.\r"
   ]
  },
  {
   "cell_type": "code",
   "execution_count": 174,
   "id": "60b84e02-0491-4c57-8d03-cbe96ed1c0f7",
   "metadata": {},
   "outputs": [
    {
     "data": {
      "text/html": [
       "<div>\n",
       "<style scoped>\n",
       "    .dataframe tbody tr th:only-of-type {\n",
       "        vertical-align: middle;\n",
       "    }\n",
       "\n",
       "    .dataframe tbody tr th {\n",
       "        vertical-align: top;\n",
       "    }\n",
       "\n",
       "    .dataframe thead th {\n",
       "        text-align: right;\n",
       "    }\n",
       "</style>\n",
       "<table border=\"1\" class=\"dataframe\">\n",
       "  <thead>\n",
       "    <tr style=\"text-align: right;\">\n",
       "      <th></th>\n",
       "      <th>author_id</th>\n",
       "      <th>author_name</th>\n",
       "      <th>book_title</th>\n",
       "      <th>prices</th>\n",
       "    </tr>\n",
       "  </thead>\n",
       "  <tbody>\n",
       "    <tr>\n",
       "      <th>5</th>\n",
       "      <td>3</td>\n",
       "      <td>Островский</td>\n",
       "      <td>Гроза</td>\n",
       "      <td>600</td>\n",
       "    </tr>\n",
       "    <tr>\n",
       "      <th>0</th>\n",
       "      <td>1</td>\n",
       "      <td>Тургенев</td>\n",
       "      <td>Отцы и дети</td>\n",
       "      <td>500</td>\n",
       "    </tr>\n",
       "    <tr>\n",
       "      <th>4</th>\n",
       "      <td>2</td>\n",
       "      <td>Чехов</td>\n",
       "      <td>Дама с собачкой</td>\n",
       "      <td>450</td>\n",
       "    </tr>\n",
       "    <tr>\n",
       "      <th>1</th>\n",
       "      <td>1</td>\n",
       "      <td>Тургенев</td>\n",
       "      <td>Рудин</td>\n",
       "      <td>400</td>\n",
       "    </tr>\n",
       "    <tr>\n",
       "      <th>3</th>\n",
       "      <td>2</td>\n",
       "      <td>Чехов</td>\n",
       "      <td>Толстый и тонкий</td>\n",
       "      <td>350</td>\n",
       "    </tr>\n",
       "  </tbody>\n",
       "</table>\n",
       "</div>"
      ],
      "text/plain": [
       "   author_id author_name        book_title  prices\n",
       "5          3  Островский             Гроза     600\n",
       "0          1    Тургенев       Отцы и дети     500\n",
       "4          2       Чехов   Дама с собачкой     450\n",
       "1          1    Тургенев             Рудин     400\n",
       "3          2       Чехов  Толстый и тонкий     350"
      ]
     },
     "execution_count": 174,
     "metadata": {},
     "output_type": "execute_result"
    }
   ],
   "source": [
    "top5 = authors_price.nlargest(5, 'prices')\n",
    "top5"
   ]
  },
  {
   "cell_type": "markdown",
   "id": "c9281cf2-d9ea-469b-bc99-4cb7acf90d92",
   "metadata": {},
   "source": [
    "Задание 4\r\n",
    "Создайте датафрейм authors_stat на основе информации из authors_price. В датафрейме authors_stat\r\n",
    "должны быть четыре столбца:\r\n",
    "author_name, min_price, max_price и mean_price,\r\n",
    "в которых должны содержаться соответственно имя автора, минимальная, максимальная и средняя\r\n",
    "цена на книги этого авора.\r"
   ]
  },
  {
   "cell_type": "code",
   "execution_count": 184,
   "id": "c7f376f2-afb4-4e75-b629-5cb5f89ac1d6",
   "metadata": {},
   "outputs": [
    {
     "data": {
      "text/html": [
       "<div>\n",
       "<style scoped>\n",
       "    .dataframe tbody tr th:only-of-type {\n",
       "        vertical-align: middle;\n",
       "    }\n",
       "\n",
       "    .dataframe tbody tr th {\n",
       "        vertical-align: top;\n",
       "    }\n",
       "\n",
       "    .dataframe thead th {\n",
       "        text-align: right;\n",
       "    }\n",
       "</style>\n",
       "<table border=\"1\" class=\"dataframe\">\n",
       "  <thead>\n",
       "    <tr style=\"text-align: right;\">\n",
       "      <th></th>\n",
       "      <th>min_price</th>\n",
       "      <th>max_price</th>\n",
       "      <th>mean_price</th>\n",
       "    </tr>\n",
       "    <tr>\n",
       "      <th>author_name</th>\n",
       "      <th></th>\n",
       "      <th></th>\n",
       "      <th></th>\n",
       "    </tr>\n",
       "  </thead>\n",
       "  <tbody>\n",
       "    <tr>\n",
       "      <th>Островский</th>\n",
       "      <td>200</td>\n",
       "      <td>600</td>\n",
       "      <td>400.0</td>\n",
       "    </tr>\n",
       "    <tr>\n",
       "      <th>Тургенев</th>\n",
       "      <td>300</td>\n",
       "      <td>500</td>\n",
       "      <td>400.0</td>\n",
       "    </tr>\n",
       "    <tr>\n",
       "      <th>Чехов</th>\n",
       "      <td>350</td>\n",
       "      <td>450</td>\n",
       "      <td>400.0</td>\n",
       "    </tr>\n",
       "  </tbody>\n",
       "</table>\n",
       "</div>"
      ],
      "text/plain": [
       "             min_price  max_price  mean_price\n",
       "author_name                                  \n",
       "Островский         200        600       400.0\n",
       "Тургенев           300        500       400.0\n",
       "Чехов              350        450       400.0"
      ]
     },
     "execution_count": 184,
     "metadata": {},
     "output_type": "execute_result"
    }
   ],
   "source": [
    "df1 = authors_price.groupby('author_name').agg({'prices': 'min'}).rename(columns={'prices':'min_price'})\n",
    "df2 = authors_price.groupby('author_name').agg({'prices': 'max'}).rename(columns={'prices':'max_price'})\n",
    "df3 = authors_price.groupby('author_name').agg({'prices': 'mean'}).rename(columns={'prices':'mean_price'})\n",
    "authors_stat=pd.concat([df1, df2, df3], axis = 1)\n",
    "authors_stat"
   ]
  },
  {
   "cell_type": "code",
   "execution_count": null,
   "id": "9f71192e-d414-432f-b30c-547715be6110",
   "metadata": {},
   "outputs": [],
   "source": []
  }
 ],
 "metadata": {
  "kernelspec": {
   "display_name": "Python 3 (ipykernel)",
   "language": "python",
   "name": "python3"
  },
  "language_info": {
   "codemirror_mode": {
    "name": "ipython",
    "version": 3
   },
   "file_extension": ".py",
   "mimetype": "text/x-python",
   "name": "python",
   "nbconvert_exporter": "python",
   "pygments_lexer": "ipython3",
   "version": "3.12.4"
  }
 },
 "nbformat": 4,
 "nbformat_minor": 5
}
